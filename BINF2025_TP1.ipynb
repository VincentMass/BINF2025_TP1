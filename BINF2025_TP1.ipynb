{
 "cells": [
  {
   "cell_type": "markdown",
   "metadata": {
    "id": "BzSC6lZgtid-"
   },
   "source": [
    "# Exercice 0 : échauffement"
   ]
  },
  {
   "cell_type": "markdown",
   "metadata": {
    "id": "aZ1yf1CtsnPk"
   },
   "source": [
    "Dans ce TP nous allons représenter des distributions de données via différents types de graphes.\n",
    "\n",
    "Q1: Expliquez ce que représente et quand utiliser :\n",
    "\n",
    "\n",
    "*   un scatterplot\n",
    "*   un barplot\n",
    "*   un boxplot\n",
    "*   un violinplot\n",
    "*   un histogramme\n",
    "\n",
    "\n",
    "\n",
    "\n"
   ]
  },
  {
   "cell_type": "markdown",
   "metadata": {
    "id": "VyvImAWts4_h"
   },
   "source": [
    "```markdown\n",
    "Scatterplot: Permet d'identifier la présence de clusters de points, et donc de révéler des tendances ou des sous-populations au sein de données ; principalement utilisé pour représenter la relation entre deux variables et en examiner la nature.\n",
    "Barplot: Dénombre la fréquence de valeurs pour les différents niveaux d'une variable catégorielle ou nominale, utilisé pour montrer des comparaisons numériques discrètes entre deux catégories.\n",
    "Boxplot: Pour comparer des variables basées sur des échelles similaires et pour comparer les valeurs des observations de groupes d'individus sur la même variable.\n",
    "Violinplot: Utilisé pour visualiser la distribution des données et sa densité de probabilité. (combinaison d'un diagramme en boîte et d'un diagramme de densité)\n",
    "Histogramme: Pour résumer des données discrètes ou continues qui sont présentées par intervalles de valeurs, souvent employé pour montrer les caractéristiques principales de la distribution des données de façon pratique.\n",
    "```"
   ]
  },
  {
   "cell_type": "markdown",
   "metadata": {
    "id": "Wf7mamjQt2aQ"
   },
   "source": [
    "# Exercice 1 : description de la base genbank"
   ]
  },
  {
   "cell_type": "markdown",
   "metadata": {
    "id": "Qtp_GvGzs8xr"
   },
   "source": [
    "La base de données genbank est un des principaux dépots de données de génomes, elle gérée par le NCBI Américain (National Center for Biotechnology Information).\n",
    "\n",
    "Dans cet exercice, allons étudier le contenu général de cette base de données en utilisant les fichiers de résumés."
   ]
  },
  {
   "cell_type": "markdown",
   "metadata": {
    "id": "hOS03wmjyxWX"
   },
   "source": [
    "---"
   ]
  },
  {
   "cell_type": "markdown",
   "metadata": {
    "id": "V3_Ytl_AypPn"
   },
   "source": [
    "Note technique : dans colab, vous pouvez monter votre google drive avec le code suivant :"
   ]
  },
  {
   "cell_type": "code",
   "execution_count": null,
   "metadata": {
    "id": "mcpOIXziyvIt"
   },
   "outputs": [],
   "source": [
    "from google.colab import drive\n",
    "drive.mount('/content/gdrive')"
   ]
  },
  {
   "cell_type": "markdown",
   "metadata": {
    "id": "xf_z3wkSywXr"
   },
   "source": [
    "---"
   ]
  },
  {
   "cell_type": "markdown",
   "metadata": {
    "id": "Y_neXxKUtaq3"
   },
   "source": [
    "Q1. Téléchargez les fichier \"overview.txt\" et \"README\" disponibles ici :\n",
    "\n",
    " https://ftp.ncbi.nlm.nih.gov/genomes/GENOME_REPORTS/\n",
    "\n"
   ]
  },
  {
   "cell_type": "markdown",
   "metadata": {
    "id": "80dH8XR6uK1N"
   },
   "source": [
    "Q2. Quel est le format du fichier \"overview.txt\" ?"
   ]
  },
  {
   "cell_type": "markdown",
   "metadata": {
    "id": "SGowRH9cui_e"
   },
   "source": [
    "```markdown\n",
    "Le format du fichier \"overview.txt\" est un tableau qui sur le rapport complet sur les organismes qui ont un ou plusieurs projets de séquençage du génome qui peuvent être terminés, en cours ou planifiés.\n",
    "```"
   ]
  },
  {
   "cell_type": "markdown",
   "metadata": {
    "id": "R4m65wC5ufPL"
   },
   "source": [
    "Q3. Utilisez le fichier README pour comprendre ce que chaque colonne représente."
   ]
  },
  {
   "cell_type": "markdown",
   "metadata": {
    "id": "JJHy3UDRul7J"
   },
   "source": [
    "```markdown\n",
    "Nom/Organisme: Nom organique d'une espèce\n",
    "Royaume: Division Taxinomique\n",
    "Groupe: Nom commun de groupe d'organisme\n",
    "Sous-groupe: Niveau/Rang taxinomique à partir du groupe\n",
    "Taille (Megabase): Taille estimée du génome\n",
    "Chrs: Nbr de chromosome\n",
    "Organites: Nbr d'organites\n",
    "Plasmide: Nbr de plasmides\n",
    "Bioprojects: Nbr de séquence de génome\n",
    "```"
   ]
  },
  {
   "cell_type": "markdown",
   "metadata": {
    "id": "K84ckFQvundb"
   },
   "source": [
    "## Organisation de la base de données"
   ]
  },
  {
   "cell_type": "markdown",
   "metadata": {
    "id": "SaU5LeGjuxC_"
   },
   "source": [
    "Q4. Combien d’organismes sont présents ?"
   ]
  },
  {
   "cell_type": "code",
   "execution_count": 5,
   "metadata": {
    "colab": {
     "base_uri": "https://localhost:8080/"
    },
    "id": "kLpubavwu2UX",
    "outputId": "254be984-a102-41f7-95b0-82f08784ef77"
   },
   "outputs": [
    {
     "name": "stdout",
     "output_type": "stream",
     "text": [
      "87888\n"
     ]
    }
   ],
   "source": [
    "with open(\"overview.txt\") as fp:\n",
    "    nbr = len(fp.readlines()[1:])\n",
    "    print(nbr)"
   ]
  },
  {
   "cell_type": "markdown",
   "metadata": {
    "id": "8YuUcejtu3s7"
   },
   "source": [
    "### Royaumes"
   ]
  },
  {
   "cell_type": "markdown",
   "metadata": {
    "id": "RRVqMrRvvGyk"
   },
   "source": [
    "Q5. Qu'est-ce qu'un royaume ?"
   ]
  },
  {
   "cell_type": "markdown",
   "metadata": {
    "id": "cgAZIG0_vJ2D"
   },
   "source": [
    "```markdown\n",
    "Le royaume (ou règne) est, dans la taxonomie (qui classe la biodiversité en fonction des caractères communs partagés), le plus haut niveau des classification des êtres vivants. Chaque règne est divisé en embranchements.\n",
    "```"
   ]
  },
  {
   "cell_type": "markdown",
   "metadata": {
    "id": "WJjTWKxIvLbU"
   },
   "source": [
    "Q6. Combien de royaumes sont présents dans la base ?"
   ]
  },
  {
   "cell_type": "markdown",
   "metadata": {
    "id": "h5aS5XsqvRSp"
   },
   "source": [
    "```markdown\n",
    "Il y 4 royaumes présents dans la base.\n",
    "```"
   ]
  },
  {
   "cell_type": "markdown",
   "metadata": {
    "id": "YII_sIxavS3t"
   },
   "source": [
    "Q7. Affichez le nombre d’organismes pour chaque royaume."
   ]
  },
  {
   "cell_type": "code",
   "execution_count": 6,
   "metadata": {
    "id": "xxvVXIVKvZZP"
   },
   "outputs": [
    {
     "name": "stdout",
     "output_type": "stream",
     "text": [
      "['Archaea', 2263, 'Bacteria', 37492, 'Eukaryota', 15560, 'Viruses', 32573]\n"
     ]
    }
   ],
   "source": [
    "    with open(\"overview.txt\") as fp:\n",
    "        text = fp.readlines()[1:]\n",
    "        res = ['Archaea', 0, 'Bacteria', 0, 'Eukaryota', 0, 'Viruses', 0]\n",
    "        for line in text:\n",
    "            l = line.split('\\t')\n",
    "            match l[1]:\n",
    "                case 'Archaea':\n",
    "                    res[1] += 1\n",
    "                case 'Bacteria':\n",
    "                    res[3] += 1\n",
    "                case 'Eukaryota':\n",
    "                    res[5] += 1\n",
    "                case 'Viruses':\n",
    "                    res[7] += 1\n",
    "        print(res)"
   ]
  },
  {
   "cell_type": "markdown",
   "metadata": {
    "id": "UnM-DgkPva-C"
   },
   "source": [
    "### Groupes"
   ]
  },
  {
   "cell_type": "markdown",
   "metadata": {
    "id": "KYmuKnmEve6V"
   },
   "source": [
    "Q8. Qu’est-ce qu’un groupe ?"
   ]
  },
  {
   "cell_type": "markdown",
   "metadata": {
    "id": "l8096_1CviTm"
   },
   "source": [
    "```markdown\n",
    "Votre réponse ici\n",
    "```"
   ]
  },
  {
   "cell_type": "markdown",
   "metadata": {
    "id": "4IB6jZImvj_-"
   },
   "source": [
    "Q9. Combien de groupes sont présents par royaume ?"
   ]
  },
  {
   "cell_type": "markdown",
   "metadata": {
    "id": "H6kcWMFnvsfu"
   },
   "source": []
  },
  {
   "cell_type": "code",
   "execution_count": null,
   "metadata": {
    "id": "b3iqxuf3vrW0"
   },
   "outputs": [],
   "source": [
    "#Votre code ici"
   ]
  },
  {
   "cell_type": "markdown",
   "metadata": {
    "id": "vjSlkTyUvvvQ"
   },
   "source": [
    "Q10. Affichez pour chaque royaume le nombre d’organismes par groupe."
   ]
  },
  {
   "cell_type": "code",
   "execution_count": null,
   "metadata": {
    "id": "dlBYqoZNv2Dj"
   },
   "outputs": [],
   "source": [
    "#Votre code ici"
   ]
  },
  {
   "cell_type": "markdown",
   "metadata": {
    "id": "kgzvx6tRwBwt"
   },
   "source": [
    "## Génomes"
   ]
  },
  {
   "cell_type": "markdown",
   "metadata": {
    "id": "4uAGGteWwHAQ"
   },
   "source": [
    "Q11. Affichez la distribution des tailles de génomes sur toute la base de données, utilisez un boxplot ou un violinplot (avec axe en log pour y voir quelque chose)."
   ]
  },
  {
   "cell_type": "code",
   "execution_count": 13,
   "metadata": {
    "id": "FoQ74OYSwTBM"
   },
   "outputs": [
    {
     "data": {
      "image/png": "[encoded data removed]",
      "text/plain": [
       "<Figure size 800x600 with 1 Axes>"
      ]
     },
     "metadata": {},
     "output_type": "display_data"
    }
   ],
   "source": [
    "import matplotlib.pyplot as plt\n",
    "with open(\"overview.txt\") as fp:\n",
    "    text = fp.readlines()[1:]\n",
    "    res = []\n",
    "    for line in text:\n",
    "        try:\n",
    "            l = line.split(\"\\t\")\n",
    "            res.append(float(l[4]))\n",
    "        except ValueError:\n",
    "            continue\n",
    "    fig = plt.figure(figsize=(8,6))\n",
    "    plt.boxplot(res)\n",
    "    plt.yscale('log')\n",
    "    plt.show()"
   ]
  },
  {
   "cell_type": "markdown",
   "metadata": {
    "id": "eIhDvcFQwm2n"
   },
   "source": [
    "Q12. Affichez la distribution par royaume."
   ]
  },
  {
   "cell_type": "code",
   "execution_count": null,
   "metadata": {
    "id": "BefoaM92wv-t"
   },
   "outputs": [],
   "source": [
    "#Votre code ici"
   ]
  },
  {
   "cell_type": "markdown",
   "metadata": {
    "id": "yY1MHFKGwxIr"
   },
   "source": [
    "Q13. Affichez la distribution par groupe pour chaque royaume."
   ]
  },
  {
   "cell_type": "code",
   "execution_count": null,
   "metadata": {
    "id": "EEsZ2FDLw3Sz"
   },
   "outputs": [],
   "source": [
    "#Votre code ici"
   ]
  },
  {
   "cell_type": "markdown",
   "metadata": {
    "id": "dM9aQnstxGLb"
   },
   "source": [
    "Q14. Pour chaque royaume, donnez le nom et la taille de l’organisme avec le plus petit génome."
   ]
  },
  {
   "cell_type": "code",
   "execution_count": null,
   "metadata": {
    "id": "zJgE62MtxP9a"
   },
   "outputs": [],
   "source": [
    "#Votre code ici"
   ]
  },
  {
   "cell_type": "markdown",
   "metadata": {
    "id": "ZtKBn_QTxRW5"
   },
   "source": [
    "Q15. Même chose mais pour l'organisme avec le plus grand génome."
   ]
  },
  {
   "cell_type": "code",
   "execution_count": null,
   "metadata": {
    "id": "qf5pbziExVeA"
   },
   "outputs": [],
   "source": [
    "#Votre code ici"
   ]
  },
  {
   "cell_type": "markdown",
   "metadata": {
    "id": "3yXU3wfixjlY"
   },
   "source": [
    "## Chromosomes"
   ]
  },
  {
   "cell_type": "markdown",
   "metadata": {
    "id": "d86DeXm6xl95"
   },
   "source": [
    "Q16. Affichez la distribution du nombre de chromosomes, sous la forme d’un histogramme, sur toute la base de données."
   ]
  },
  {
   "cell_type": "code",
   "execution_count": null,
   "metadata": {
    "id": "cVgVRe82xxDu"
   },
   "outputs": [],
   "source": [
    "#Votre code ici"
   ]
  },
  {
   "cell_type": "markdown",
   "metadata": {
    "id": "zI3OY3idxyRz"
   },
   "source": [
    "Q17. Même chose mais pour chaque royaume sous la forme d'un boxplot (ou violinplot)."
   ]
  },
  {
   "cell_type": "code",
   "execution_count": null,
   "metadata": {
    "id": "o_2RXVfZx9r9"
   },
   "outputs": [],
   "source": [
    "#Votre code ici"
   ]
  },
  {
   "cell_type": "markdown",
   "metadata": {
    "id": "26zBhs_sx_Yn"
   },
   "source": [
    "Q18. Qu’observez-vous ? Comment l’expliquez-vous ?"
   ]
  },
  {
   "cell_type": "markdown",
   "metadata": {
    "id": "i_pRzRMKyBr3"
   },
   "source": [
    "```markdown\n",
    "Votre réponse ici\n",
    "```"
   ]
  },
  {
   "cell_type": "markdown",
   "metadata": {
    "id": "-W14JDk6yILU"
   },
   "source": [
    "Q19. Pour les Eucaryotes uniquement, affichez la distribution du nombre de chromosomes sous la forme d’un histogramme."
   ]
  },
  {
   "cell_type": "code",
   "execution_count": null,
   "metadata": {
    "id": "9Z7y7SvoyUB7"
   },
   "outputs": [],
   "source": [
    "#Votre code ici"
   ]
  },
  {
   "cell_type": "markdown",
   "metadata": {
    "id": "fjZgGKMByVQq"
   },
   "source": [
    "Q20. Pour les Eucaryotes uniquement, affichez la taille des génomes en fonction du nombre de chromosomes, sous forme d'un graphe (scatter plot)."
   ]
  },
  {
   "cell_type": "code",
   "execution_count": null,
   "metadata": {
    "id": "TexCG9hSyoRN"
   },
   "outputs": [],
   "source": [
    "#Votre code ici"
   ]
  },
  {
   "cell_type": "markdown",
   "metadata": {
    "id": "FV02vWsyypa3"
   },
   "source": [
    "Q21. Qu’observez-vous ?"
   ]
  },
  {
   "cell_type": "markdown",
   "metadata": {
    "id": "SM7IZWZcyrJb"
   },
   "source": [
    "```markdown\n",
    "Votre réponse ici\n",
    "```"
   ]
  },
  {
   "cell_type": "markdown",
   "metadata": {
    "id": "NiPmjrf30cKM"
   },
   "source": [
    "## Plasmides"
   ]
  },
  {
   "cell_type": "markdown",
   "metadata": {
    "id": "_qSxLqcD0eDd"
   },
   "source": [
    "Q22. Qu'est-ce qu'un plasmide ?"
   ]
  },
  {
   "cell_type": "markdown",
   "metadata": {
    "id": "JQFkXghg0iXM"
   },
   "source": [
    "```markdown\n",
    "Votre réponse ici\n",
    "```"
   ]
  },
  {
   "cell_type": "markdown",
   "metadata": {
    "id": "5vh9uq-20jv_"
   },
   "source": [
    "Q23. Affichez le nombre moyen de plasmides par royaume, sous forme d'un barplot."
   ]
  },
  {
   "cell_type": "code",
   "execution_count": null,
   "metadata": {
    "id": "n2-rF_H40pEP"
   },
   "outputs": [],
   "source": [
    "#Votre code ici"
   ]
  },
  {
   "cell_type": "markdown",
   "metadata": {
    "id": "-Hu-eCtU02k-"
   },
   "source": [
    "Q24. Qu'observez-vous ?"
   ]
  },
  {
   "cell_type": "markdown",
   "metadata": {
    "id": "WkTWMBr5058t"
   },
   "source": [
    "```markdown\n",
    "Votre réponse ici\n",
    "```"
   ]
  },
  {
   "cell_type": "markdown",
   "metadata": {
    "id": "-FGOVzG71Bpd"
   },
   "source": [
    "## Projets"
   ]
  },
  {
   "cell_type": "markdown",
   "metadata": {
    "id": "_KT0WqxQ1D5L"
   },
   "source": [
    "Q25. Qu'est-ce qu'un projet ?"
   ]
  },
  {
   "cell_type": "markdown",
   "metadata": {
    "id": "2CT6wDfL1HAA"
   },
   "source": [
    "```markdown\n",
    "Votre réponse ici\n",
    "```"
   ]
  },
  {
   "cell_type": "markdown",
   "metadata": {
    "id": "oyB0YYcr1IWI"
   },
   "source": [
    "Q26. Affichez le nombre de projets moyen par organisme pour chaque royaume, sous forme d'un barplot."
   ]
  },
  {
   "cell_type": "code",
   "execution_count": null,
   "metadata": {
    "id": "R-F83W0B1RK5"
   },
   "outputs": [],
   "source": [
    "#Votre code ici"
   ]
  },
  {
   "cell_type": "markdown",
   "metadata": {
    "id": "I0smAhux1UVu"
   },
   "source": [
    "Q27. Combien d'organismes ont 0 projets ?"
   ]
  },
  {
   "cell_type": "code",
   "execution_count": null,
   "metadata": {
    "id": "D0ftzo5v1Yhg"
   },
   "outputs": [],
   "source": [
    "#Votre code ici"
   ]
  },
  {
   "cell_type": "markdown",
   "metadata": {
    "id": "DWe4pEPk1Zh4"
   },
   "source": [
    "Q28. Combien d'organismes ont > 1 projets ?"
   ]
  },
  {
   "cell_type": "code",
   "execution_count": null,
   "metadata": {
    "id": "ufa4IZ4D1dzM"
   },
   "outputs": [],
   "source": [
    "#Votre code ici"
   ]
  },
  {
   "cell_type": "markdown",
   "metadata": {
    "id": "69GLhgJm1f6I"
   },
   "source": [
    "Q29. Affichez le nom et nombre du TOP 5 des organismes possédant le plus de projets."
   ]
  },
  {
   "cell_type": "code",
   "execution_count": null,
   "metadata": {
    "id": "sno2DqXD1mOU"
   },
   "outputs": [],
   "source": [
    "#Votre code ici"
   ]
  },
  {
   "cell_type": "markdown",
   "metadata": {
    "id": "cuver9rX1ofM"
   },
   "source": [
    "Q30. Expliquez rapidement pourquoi ces organismes sont les plus étudiés."
   ]
  },
  {
   "cell_type": "markdown",
   "metadata": {
    "id": "MZsDnE2j10cO"
   },
   "source": [
    "```markdown\n",
    "Votre réponse ici\n",
    "```"
   ]
  },
  {
   "cell_type": "markdown",
   "metadata": {
    "id": "lDmIuWXz18-J"
   },
   "source": [
    "# Exercice 2 : Gènes"
   ]
  },
  {
   "cell_type": "markdown",
   "metadata": {
    "id": "QCcmFeGf2BTn"
   },
   "source": [
    "Pour obtenir des informations plus précises sur les gènes contenus dans les différents organismes de genbank, nous allons travailler avec le fichier de résumé d'assemblage."
   ]
  },
  {
   "cell_type": "markdown",
   "metadata": {
    "id": "yVbG_vNb2OiI"
   },
   "source": [
    "Q1. Récupérez le fichier \"assembly_summary_genbank_historical.txt\" situé ici:\n",
    "https://ftp.ncbi.nlm.nih.gov/genomes/ASSEMBLY_REPORTS/\n",
    "\n",
    "(On utilise le fichier historique car il est plus petit, l’autre fichier fait >1GB)"
   ]
  },
  {
   "cell_type": "markdown",
   "metadata": {
    "id": "5DN-FBzu55j2"
   },
   "source": [
    "Q2. Qu'est-ce que le GC content ? Pourquoi est-il mesuré?"
   ]
  },
  {
   "cell_type": "markdown",
   "metadata": {
    "id": "1GdQhEom5-u7"
   },
   "source": [
    "```markdown\n",
    "Votre réponse ici\n",
    "```"
   ]
  },
  {
   "cell_type": "markdown",
   "metadata": {
    "id": "KsETs-jP2frR"
   },
   "source": [
    "Q3. Affichez la distribution du GC content dans tous les organismes de la liste, sous forme d'un violinplot."
   ]
  },
  {
   "cell_type": "code",
   "execution_count": null,
   "metadata": {
    "id": "etKTcPws3Qur"
   },
   "outputs": [],
   "source": [
    "#Votre code ici"
   ]
  },
  {
   "cell_type": "markdown",
   "metadata": {
    "id": "IBOOujQm3R1n"
   },
   "source": []
  },
  {
   "cell_type": "markdown",
   "metadata": {
    "id": "S-4AN7J85XZX"
   },
   "source": [
    "Q4. Qu'observez-vous ?"
   ]
  },
  {
   "cell_type": "markdown",
   "metadata": {
    "id": "ExvmSOL55aaj"
   },
   "source": [
    "```markdown\n",
    "Votre réponse ici\n",
    "```"
   ]
  },
  {
   "cell_type": "markdown",
   "metadata": {
    "id": "IuVawXI55bk0"
   },
   "source": [
    "Q5. Affichez le GC content en fonction de la taille du génome, sous forme de scatter plot."
   ]
  },
  {
   "cell_type": "code",
   "execution_count": null,
   "metadata": {
    "id": "u-h08VNY5pl8"
   },
   "outputs": [],
   "source": [
    "#Votre code ici"
   ]
  },
  {
   "cell_type": "markdown",
   "metadata": {
    "id": "bWa-pqkY5qcr"
   },
   "source": [
    "Q6. Qu'observez-vous ?"
   ]
  },
  {
   "cell_type": "markdown",
   "metadata": {
    "id": "h8KyylBE5sfv"
   },
   "source": [
    "```markdown\n",
    "Votre réponse ici\n",
    "```"
   ]
  },
  {
   "cell_type": "markdown",
   "metadata": {
    "id": "97dUv1eb6G9b"
   },
   "source": [
    "Q7. Affichez la distribution du nombre de gènes, choisissez le plot."
   ]
  },
  {
   "cell_type": "code",
   "execution_count": null,
   "metadata": {
    "id": "hsuftnKk6UKt"
   },
   "outputs": [],
   "source": [
    "#Votre code ici"
   ]
  },
  {
   "cell_type": "markdown",
   "metadata": {
    "id": "a-45-z3x6XLw"
   },
   "source": [
    "Q8. Qu'observez-vous ?"
   ]
  },
  {
   "cell_type": "markdown",
   "metadata": {
    "id": "rBGfoSaM66Ta"
   },
   "source": [
    "```markdown\n",
    "Votre réponse ici\n",
    "```"
   ]
  },
  {
   "cell_type": "markdown",
   "metadata": {
    "id": "Aw3U7mwq67mn"
   },
   "source": [
    "Q9. Enlevez les données aberrantes (outliers)"
   ]
  },
  {
   "cell_type": "code",
   "execution_count": null,
   "metadata": {
    "id": "_uiR78347EuM"
   },
   "outputs": [],
   "source": [
    "#Votre code ici"
   ]
  },
  {
   "cell_type": "markdown",
   "metadata": {
    "id": "iKXSZuhV7H-q"
   },
   "source": [
    "Q10. Comment avez-vous fait ? Quel seuil avez-vous choisi ?"
   ]
  },
  {
   "cell_type": "markdown",
   "metadata": {
    "id": "7tDIjrVc7M92"
   },
   "source": [
    "```markdown\n",
    "Votre réponse ici\n",
    "```"
   ]
  },
  {
   "cell_type": "markdown",
   "metadata": {
    "id": "EmZ7Ws1x7OIe"
   },
   "source": [
    "Q11. Y-a-t-il une corrélation entre taille du génome et nombre de gènes ?"
   ]
  },
  {
   "cell_type": "code",
   "execution_count": null,
   "metadata": {
    "id": "jquRl-Pz7THy"
   },
   "outputs": [],
   "source": [
    "#Votre code ici"
   ]
  },
  {
   "cell_type": "markdown",
   "metadata": {
    "id": "1op22x767Y2F"
   },
   "source": [
    "# Exercice 3: GC-content"
   ]
  },
  {
   "cell_type": "markdown",
   "metadata": {
    "id": "usMP4N887cQQ"
   },
   "source": [
    "Pour une séquence $s$, le contenu en GC est défini par :\n",
    "\n",
    "$GC(s)=\\frac{\\#G(s) + \\#C(s)}{|s|}$,\n",
    "\n",
    "où $\\#N(s)$ est le nombre de nucléotides $N$ dans la séquence $s$ et $|s|$ est la taille de $s$."
   ]
  },
  {
   "cell_type": "markdown",
   "metadata": {
    "id": "ToE1SWAI75NJ"
   },
   "source": [
    "Q1. Récuperrez legénome de l’organisme *Acidianus ambivalens* à partir du FTP :\n",
    "\n",
    "https://ftp.ncbi.nlm.nih.gov/genomes/genbank/archaea/\n",
    "\n",
    "(dans latest_assembly_versions/GCA_009729015.1_ASM972901v1, le fichier avec l'extension \"fna.gz\")\n"
   ]
  },
  {
   "cell_type": "markdown",
   "metadata": {
    "id": "ucshnQUQ83cV"
   },
   "source": [
    "Q2. Affichez le GC content global."
   ]
  },
  {
   "cell_type": "code",
   "execution_count": null,
   "metadata": {
    "id": "-QZhVkdH88dj"
   },
   "outputs": [],
   "source": [
    "#Votre code ici"
   ]
  },
  {
   "cell_type": "markdown",
   "metadata": {
    "id": "h9guJlTj89z9"
   },
   "source": [
    "Q3. Pour détecter des variations locales de GC, on va utiliser une fenêtre glissante de taille N nucléotides (démarrer à la position N/2 et finir à |s| -N/2).\n",
    "\n",
    "Affichez le GC content le long du génome pour des fenêtres de tailles 50, 1000 ou 10000."
   ]
  },
  {
   "cell_type": "code",
   "execution_count": null,
   "metadata": {
    "id": "qFJb63wB9P5K"
   },
   "outputs": [],
   "source": [
    "#Votre code ici"
   ]
  },
  {
   "cell_type": "markdown",
   "metadata": {
    "id": "ClZ57OAi9Ran"
   },
   "source": [
    "Q4. Qu’observez-vous ?"
   ]
  },
  {
   "cell_type": "markdown",
   "metadata": {
    "id": "EJpHpyNk9S8D"
   },
   "source": [
    "```markdown\n",
    "Votre réponse ici\n",
    "```"
   ]
  },
  {
   "cell_type": "markdown",
   "metadata": {
    "id": "gL-egRkq9bgj"
   },
   "source": [
    "Q5. On va lisser le signal pour le rendre moins bruité en utilisant la fonction *savgol_filter* de *scipy.signal* avec les paramètres $51$ et $5$."
   ]
  },
  {
   "cell_type": "code",
   "execution_count": null,
   "metadata": {
    "id": "vYbO1W0a9-Hz"
   },
   "outputs": [],
   "source": [
    "#Votre code ici"
   ]
  },
  {
   "cell_type": "markdown",
   "metadata": {
    "id": "W-X6zUqA9_du"
   },
   "source": [
    "Q6. Finalement, on va rendre le code générique pour n'importe quel espèce. Modifier votre code pour qu'il prenne en entrée un nom de fichier de génome du ftp, et une taille de fenêtre, et affiche le GC content global et local."
   ]
  },
  {
   "cell_type": "code",
   "execution_count": null,
   "metadata": {
    "id": "QHjLwSJ2-TkO"
   },
   "outputs": [],
   "source": [
    "#Votre code ici"
   ]
  }
 ],
 "metadata": {
  "colab": {
   "provenance": []
  },
  "kernelspec": {
   "display_name": "Python 3 (ipykernel)",
   "language": "python",
   "name": "python3"
  },
  "language_info": {
   "codemirror_mode": {
    "name": "ipython",
    "version": 3
   },
   "file_extension": ".py",
   "mimetype": "text/x-python",
   "name": "python",
   "nbconvert_exporter": "python",
   "pygments_lexer": "ipython3",
   "version": "3.10.12"
  }
 },
 "nbformat": 4,
 "nbformat_minor": 4
}
